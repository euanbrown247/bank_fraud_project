{
 "cells": [
  {
   "cell_type": "code",
   "execution_count": 1,
   "id": "70e2b198-7e03-4139-a30f-da2380f66870",
   "metadata": {
    "tags": []
   },
   "outputs": [],
   "source": [
    "import pandas as pd\n",
    "import numpy as np\n",
    "import urllib.request\n",
    "import pickle\n",
    "\n",
    "import sklearn.model_selection\n",
    "from sklearn import model_selection\n",
    "from sklearn.model_selection import train_test_split\n",
    "from sklearn.ensemble import RandomForestClassifier\n",
    "from sklearn.metrics import recall_score, roc_auc_score, accuracy_score ,confusion_matrix\n",
    "from imblearn.over_sampling import SMOTE\n",
    "\n",
    "from tqdm import tqdm"
   ]
  },
  {
   "cell_type": "code",
   "execution_count": 2,
   "id": "3c32ed7d-f2ac-4af2-8c16-0a50764cd4b9",
   "metadata": {},
   "outputs": [],
   "source": [
    "RANDOM_STATE = 42"
   ]
  },
  {
   "cell_type": "code",
   "execution_count": 3,
   "id": "293da9a8-3652-46fc-9a24-315c9e27719c",
   "metadata": {
    "tags": []
   },
   "outputs": [],
   "source": [
    "# load data\n",
    "data = pickle.load(urllib.request.urlopen('https://github.com/euanbrown247/bank_fraud_project/blob/main/X_y.pkl?raw=true'))\n",
    "X = data[0]\n",
    "y = data[1]"
   ]
  },
  {
   "cell_type": "code",
   "execution_count": 4,
   "id": "1028fd70-70f2-4cd0-b7d2-507eeb9f0299",
   "metadata": {
    "tags": []
   },
   "outputs": [],
   "source": [
    "model_rf = RandomForestClassifier(\n",
    "    n_estimators=80,\n",
    "    max_depth=2,\n",
    "    n_jobs=-1\n",
    ")"
   ]
  },
  {
   "cell_type": "code",
   "execution_count": 7,
   "id": "bcf47ea9-5657-4328-9134-f726987e3995",
   "metadata": {
    "tags": []
   },
   "outputs": [
    {
     "name": "stdout",
     "output_type": "stream",
     "text": [
      "recall    0.6100\n",
      "AUC       0.7412\n",
      "acc       0.8696\n",
      "dtype: float64\n"
     ]
    },
    {
     "data": {
      "text/plain": [
       "array([[431462,  63093],\n",
       "       [  2124,   3321]])"
      ]
     },
     "execution_count": 7,
     "metadata": {},
     "output_type": "execute_result"
    }
   ],
   "source": [
    "states = range(0,20)\n",
    "output = []\n",
    "for n,seed in enumerate(states):\n",
    "    X_train, X_test, y_train, y_test = train_test_split(\n",
    "        X, y, test_size=0.25, random_state=seed)\n",
    "\n",
    "\n",
    "    sm = SMOTE(random_state = seed)\n",
    "    X_res, y_res = sm.fit_resample(X_train, y_train)\n",
    "\n",
    "    clf = model_rf\n",
    "\n",
    "    clf.fit(X_res, y_res)\n",
    "\n",
    "    #clf.predict(X_test)\n",
    "    clf.score(X_test, y_test)\n",
    "\n",
    "    pred = clf.predict(X_test)\n",
    "    scores = {\n",
    "        'roundn':n,\n",
    "        'recall':recall_score(y_test,pred).round(3),  \n",
    "        'AUC': roc_auc_score(y_test,pred).round(3),  \n",
    "        'acc': accuracy_score(y_test,pred).round(3),\n",
    "        'confu':confusion_matrix(y_test,pred)}\n",
    "\n",
    "    #print(scores)\n",
    "    output.append(scores)\n",
    "\n",
    "df = pd.DataFrame(output)\n",
    "\n",
    "df['model'] = df['modeln'].map({0:'gb',1:'rf',2:'dt','n':'naive'})\n",
    "\n",
    "print(df.groupby('model')[['recall','AUC']].agg(['mean','var']))"
   ]
  },
  {
   "cell_type": "code",
   "execution_count": 8,
   "id": "4959e39d-de5a-4e00-8c10-fe401beb668f",
   "metadata": {
    "tags": []
   },
   "outputs": [
    {
     "data": {
      "text/plain": [
       "housing_status_BA                   0.272014\n",
       "device_os_windows                   0.186848\n",
       "keep_alive_session_0.0              0.145603\n",
       "phone_home_valid_0                  0.110354\n",
       "current_address_months_count        0.070241\n",
       "email_is_free_1                     0.061223\n",
       "payment_type_AC                     0.043924\n",
       "proposed_credit_limit               0.031016\n",
       "prev_address_months_count           0.017900\n",
       "prev_address_bin                    0.016047\n",
       "under_loan_1                        0.010081\n",
       "customer_age                        0.009712\n",
       "credit_risk_score                   0.008888\n",
       "referred_not referred               0.005801\n",
       "intended_balcon_amount              0.003921\n",
       "name_email_similarity               0.003276\n",
       "bank_months_count                   0.003150\n",
       "income                              0.000000\n",
       "month_5                             0.000000\n",
       "days_since_request                  0.000000\n",
       "zip_count_4w                        0.000000\n",
       "velocity_24h                        0.000000\n",
       "bank_branch_count_8w                0.000000\n",
       "date_of_birth_distinct_emails_4w    0.000000\n",
       "session_length_in_minutes           0.000000\n",
       "device_distinct_emails_8w           0.000000\n",
       "dtype: float64"
      ]
     },
     "execution_count": 8,
     "metadata": {},
     "output_type": "execute_result"
    }
   ],
   "source": [
    "feature_imp = pd.Series(model_rf.feature_importances_,index=X.columns).sort_values(ascending=False)\n",
    "feature_imp"
   ]
  },
  {
   "cell_type": "code",
   "execution_count": null,
   "id": "264c8158-3ab2-4db1-ada0-0a049d5241c6",
   "metadata": {},
   "outputs": [],
   "source": []
  }
 ],
 "metadata": {
  "kernelspec": {
   "display_name": "Python 3 (ipykernel)",
   "language": "python",
   "name": "python3"
  },
  "language_info": {
   "codemirror_mode": {
    "name": "ipython",
    "version": 3
   },
   "file_extension": ".py",
   "mimetype": "text/x-python",
   "name": "python",
   "nbconvert_exporter": "python",
   "pygments_lexer": "ipython3",
   "version": "3.11.2"
  }
 },
 "nbformat": 4,
 "nbformat_minor": 5
}
