{
 "cells": [
  {
   "cell_type": "code",
   "execution_count": null,
   "id": "4767b561-0717-4ffc-81eb-5a95930f37b6",
   "metadata": {
    "tags": []
   },
   "outputs": [],
   "source": [
    "import pandas as pd\n",
    "import numpy as np\n",
    "import urllib.request\n",
    "import pickle\n",
    "\n",
    "import sklearn.model_selection\n",
    "from sklearn import model_selection\n",
    "from sklearn.model_selection import train_test_split\n",
    "from sklearn.ensemble import GradientBoostingClassifier\n",
    "from sklearn.metrics import recall_score, roc_auc_score, accuracy_score ,confusion_matrix\n",
    "from imblearn.over_sampling import SMOTE\n",
    "\n",
    "from tqdm import tqdm"
   ]
  },
  {
   "cell_type": "code",
   "execution_count": null,
   "id": "4705e907-319a-4a25-bf3f-c197ff2e2713",
   "metadata": {
    "tags": []
   },
   "outputs": [],
   "source": [
    "RANDOM_STATE = 42"
   ]
  },
  {
   "cell_type": "code",
   "execution_count": null,
   "id": "f2f6b485-214c-48d7-9e87-a2e6515bcba0",
   "metadata": {
    "tags": []
   },
   "outputs": [],
   "source": [
    "# load data\n",
    "data = pickle.load(urllib.request.urlopen('https://github.com/euanbrown247/bank_fraud_project/blob/main/X_y.pkl?raw=true'))\n",
    "X = data[0]\n",
    "y = data[1]"
   ]
  },
  {
   "cell_type": "code",
   "execution_count": null,
   "id": "596411c4-6208-400e-8733-c63820f81c69",
   "metadata": {
    "tags": []
   },
   "outputs": [],
   "source": [
    "model_gb = GradientBoostingClassifier(\n",
    "    n_estimators=20)"
   ]
  },
  {
   "cell_type": "code",
   "execution_count": null,
   "id": "e0b28df9-a547-41e8-bb2c-1a7d3b4a3197",
   "metadata": {},
   "outputs": [],
   "source": [
    "states = range(0,20)\n",
    "output = []\n",
    "for n,seed in enumerate(states):\n",
    "    X_train, X_test, y_train, y_test = train_test_split(\n",
    "        X, y, test_size=0.25, random_state=seed)\n",
    "\n",
    "    sm = SMOTE(random_state = seed)\n",
    "    X_res, y_res = sm.fit_resample(X_train, y_train)\n",
    "\n",
    "    clf = model_gb\n",
    "\n",
    "    clf.fit(X_res, y_res)\n",
    "\n",
    "    #clf.predict(X_test)\n",
    "    clf.score(X_test, y_test)\n",
    "\n",
    "    pred = clf.predict(X_test)\n",
    "    scores = {\n",
    "        'roundn':n,\n",
    "        'recall':recall_score(y_test,pred).round(3),  \n",
    "        'AUC': roc_auc_score(y_test,pred).round(3),  \n",
    "        'acc': accuracy_score(y_test,pred).round(3),\n",
    "        'confu':confusion_matrix(y_test,pred)}\n",
    "\n",
    "    #print(scores)\n",
    "    output.append(scores)\n",
    "\n",
    "df = pd.DataFrame(output)\n",
    "\n",
    "df['model'] = df['modeln'].map({0:'gb',1:'rf',2:'dt','n':'naive'})\n",
    "\n",
    "print(df.groupby('model')[['recall','AUC']].agg(['mean','var']))"
   ]
  }
 ],
 "metadata": {
  "kernelspec": {
   "display_name": "Python 3 (ipykernel)",
   "language": "python",
   "name": "python3"
  },
  "language_info": {
   "codemirror_mode": {
    "name": "ipython",
    "version": 3
   },
   "file_extension": ".py",
   "mimetype": "text/x-python",
   "name": "python",
   "nbconvert_exporter": "python",
   "pygments_lexer": "ipython3",
   "version": "3.11.2"
  }
 },
 "nbformat": 4,
 "nbformat_minor": 5
}
