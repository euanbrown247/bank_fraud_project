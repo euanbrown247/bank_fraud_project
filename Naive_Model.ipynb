{
 "cells": [
  {
   "cell_type": "code",
   "execution_count": 13,
   "id": "db58ea10-e859-4820-8d4f-28c3db31ceb0",
   "metadata": {
    "tags": []
   },
   "outputs": [],
   "source": [
    "import pandas as pd\n",
    "import numpy as np\n",
    "import urllib.request\n",
    "import pickle\n",
    "\n",
    "from sklearn.metrics import recall_score, roc_auc_score,accuracy_score ,confusion_matrix\n",
    "from sklearn.model_selection import train_test_split"
   ]
  },
  {
   "cell_type": "code",
   "execution_count": 14,
   "id": "db002627-5bbb-4a53-83fc-8ed13985741c",
   "metadata": {
    "tags": []
   },
   "outputs": [],
   "source": [
    "# load data\n",
    "data = pickle.load(urllib.request.urlopen('https://github.com/euanbrown247/bank_fraud_project/blob/main/X_y.pkl?raw=true'))\n",
    "X = data[0]\n",
    "y = data[1]"
   ]
  },
  {
   "cell_type": "code",
   "execution_count": 18,
   "id": "dac1adef-aa61-4848-8fdb-35d2ed4f8e94",
   "metadata": {
    "tags": []
   },
   "outputs": [
    {
     "name": "stdout",
     "output_type": "stream",
     "text": [
      "recall    0.0000\n",
      "AUC       0.5000\n",
      "acc       0.9891\n",
      "dtype: float64\n",
      "recall    0.000000e+00\n",
      "AUC       0.000000e+00\n",
      "acc       6.210526e-07\n",
      "dtype: float64\n"
     ]
    },
    {
     "data": {
      "text/plain": [
       "array([[494555,      0],\n",
       "       [  5445,      0]])"
      ]
     },
     "execution_count": 18,
     "metadata": {},
     "output_type": "execute_result"
    }
   ],
   "source": [
    "states = range(0,20)\n",
    "output = []\n",
    "for n,seed in enumerate(states):\n",
    "    X_train, X_test, y_train, y_test = train_test_split(\n",
    "        X, y, test_size=0.25, random_state=seed)\n",
    "\n",
    "    pred = np.zeros_like(y_test)\n",
    "    \n",
    "    scores = {\n",
    "        'roundn':n,\n",
    "        'recall':recall_score(y_test,pred).round(3),  \n",
    "        'AUC': roc_auc_score(y_test,pred).round(3),  \n",
    "        'acc': accuracy_score(y_test,pred).round(3),\n",
    "        'confu':confusion_matrix(y_test,pred)}\n",
    "\n",
    "    #print(scores)\n",
    "    output.append(scores)\n",
    "\n",
    "df = pd.DataFrame(output)\n",
    "\n",
    "df['model'] = df['modeln'].map({0:'gb',1:'rf',2:'dt','n':'naive'})\n",
    "\n",
    "print(df.groupby('model')[['recall','AUC']].agg(['mean','var']))"
   ]
  },
  {
   "cell_type": "code",
   "execution_count": null,
   "id": "33deb351-ba76-435b-95c1-89716fa05cdc",
   "metadata": {},
   "outputs": [],
   "source": []
  }
 ],
 "metadata": {
  "kernelspec": {
   "display_name": "Python 3 (ipykernel)",
   "language": "python",
   "name": "python3"
  },
  "language_info": {
   "codemirror_mode": {
    "name": "ipython",
    "version": 3
   },
   "file_extension": ".py",
   "mimetype": "text/x-python",
   "name": "python",
   "nbconvert_exporter": "python",
   "pygments_lexer": "ipython3",
   "version": "3.11.2"
  }
 },
 "nbformat": 4,
 "nbformat_minor": 5
}
